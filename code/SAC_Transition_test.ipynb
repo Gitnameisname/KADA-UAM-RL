{
 "cells": [
  {
   "cell_type": "code",
   "execution_count": 1,
   "metadata": {},
   "outputs": [],
   "source": [
    "import gym\n",
    "import torch as th\n",
    "import time\n",
    "import Transition_Training_8_discrete_simple as Transition_Training_8_discrete\n",
    "from stable_baselines3 import SAC\n",
    "from datetime import datetime"
   ]
  },
  {
   "cell_type": "code",
   "execution_count": 2,
   "metadata": {},
   "outputs": [],
   "source": [
    "env = Transition_Training_8_discrete.TiltrotorTransitionTraining()\n",
    "model = SAC.load(r'./model/train_result_2023-08-22_213715')"
   ]
  },
  {
   "cell_type": "code",
   "execution_count": 3,
   "metadata": {},
   "outputs": [
    {
     "ename": "KeyboardInterrupt",
     "evalue": "",
     "output_type": "error",
     "traceback": [
      "\u001b[1;31m---------------------------------------------------------------------------\u001b[0m",
      "\u001b[1;31mKeyboardInterrupt\u001b[0m                         Traceback (most recent call last)",
      "Cell \u001b[1;32mIn[3], line 9\u001b[0m\n\u001b[0;32m      7\u001b[0m obs, reward, done, info \u001b[39m=\u001b[39m env\u001b[39m.\u001b[39mstep(action)\n\u001b[0;32m      8\u001b[0m \u001b[39m#print(action)\u001b[39;00m\n\u001b[1;32m----> 9\u001b[0m env\u001b[39m.\u001b[39;49mrender()\n\u001b[0;32m     10\u001b[0m \u001b[39mif\u001b[39;00m done:\n\u001b[0;32m     11\u001b[0m   obs \u001b[39m=\u001b[39m env\u001b[39m.\u001b[39mreset()\n",
      "File \u001b[1;32mf:\\KADA UAM RL\\code\\Transition_Training_8_discrete_simple.py:516\u001b[0m, in \u001b[0;36mTiltrotorTransitionTraining.render\u001b[1;34m(self, mode)\u001b[0m\n\u001b[0;32m    515\u001b[0m \u001b[39mdef\u001b[39;00m \u001b[39mrender\u001b[39m(\u001b[39mself\u001b[39m, mode\u001b[39m=\u001b[39m\u001b[39m'\u001b[39m\u001b[39mhuman\u001b[39m\u001b[39m'\u001b[39m):\n\u001b[1;32m--> 516\u001b[0m     \u001b[39mself\u001b[39;49m\u001b[39m.\u001b[39;49mdraw_vehicle(\u001b[39mself\u001b[39;49m\u001b[39m.\u001b[39;49mstate[\u001b[39m0\u001b[39;49m], \u001b[39mself\u001b[39;49m\u001b[39m.\u001b[39;49mstate[\u001b[39m1\u001b[39;49m], \u001b[39mself\u001b[39;49m\u001b[39m.\u001b[39;49mstate[\u001b[39m2\u001b[39;49m], \u001b[39mself\u001b[39;49m\u001b[39m.\u001b[39;49mtilt\u001b[39m*\u001b[39;49mmath\u001b[39m.\u001b[39;49mpi\u001b[39m/\u001b[39;49m\u001b[39m180\u001b[39;49m)\n\u001b[0;32m    518\u001b[0m     text_x \u001b[39m=\u001b[39m \u001b[39mself\u001b[39m\u001b[39m.\u001b[39mfont\u001b[39m.\u001b[39mrender(\u001b[39m\"\u001b[39m\u001b[39mDistance(m): \u001b[39m\u001b[39m\"\u001b[39m\u001b[39m+\u001b[39m\u001b[39mstr\u001b[39m(\u001b[39mround\u001b[39m(\u001b[39mself\u001b[39m\u001b[39m.\u001b[39mstate[\u001b[39m0\u001b[39m],\u001b[39m8\u001b[39m)),\u001b[39mTrue\u001b[39;00m,(\u001b[39m28\u001b[39m,\u001b[39m0\u001b[39m,\u001b[39m0\u001b[39m))\n\u001b[0;32m    519\u001b[0m     text_z \u001b[39m=\u001b[39m \u001b[39mself\u001b[39m\u001b[39m.\u001b[39mfont\u001b[39m.\u001b[39mrender(\u001b[39m\"\u001b[39m\u001b[39mAltitude(m): \u001b[39m\u001b[39m\"\u001b[39m\u001b[39m+\u001b[39m\u001b[39mstr\u001b[39m(\u001b[39mround\u001b[39m(\u001b[39m-\u001b[39m\u001b[39mself\u001b[39m\u001b[39m.\u001b[39mstate[\u001b[39m1\u001b[39m],\u001b[39m8\u001b[39m)),\u001b[39mTrue\u001b[39;00m,(\u001b[39m28\u001b[39m,\u001b[39m0\u001b[39m,\u001b[39m0\u001b[39m))\n",
      "File \u001b[1;32mf:\\KADA UAM RL\\code\\Transition_Training_8_discrete_simple.py:569\u001b[0m, in \u001b[0;36mTiltrotorTransitionTraining.draw_vehicle\u001b[1;34m(self, x, z, the, tilt)\u001b[0m\n\u001b[0;32m    566\u001b[0m     \u001b[39mself\u001b[39m\u001b[39m.\u001b[39mscreen\u001b[39m.\u001b[39mblit(\u001b[39mself\u001b[39m\u001b[39m.\u001b[39mbackground, (\u001b[39m-\u001b[39mx \u001b[39m-\u001b[39m \u001b[39m200\u001b[39m, \u001b[39m0\u001b[39m)) \u001b[39m#-x\u001b[39;00m\n\u001b[0;32m    568\u001b[0m \u001b[39mif\u001b[39;00m x \u001b[39m<\u001b[39m\u001b[39m=\u001b[39m \u001b[39m200\u001b[39m:\n\u001b[1;32m--> 569\u001b[0m     \u001b[39mself\u001b[39m\u001b[39m.\u001b[39mscreen\u001b[39m.\u001b[39mblit(rotated_image_vehicle, ((\u001b[39m200\u001b[39m \u001b[39m+\u001b[39m x \u001b[39m-\u001b[39m rotated_image_vehicle\u001b[39m.\u001b[39mget_width()\u001b[39m/\u001b[39m\u001b[39m2\u001b[39m), (\u001b[39mself\u001b[39m\u001b[39m.\u001b[39mwindow_size[\u001b[39m1\u001b[39m]\u001b[39m/\u001b[39m\u001b[39m2\u001b[39m \u001b[39m+\u001b[39m z \u001b[39m-\u001b[39m rotated_image_vehicle\u001b[39m.\u001b[39mget_height()\u001b[39m/\u001b[39m\u001b[39m2\u001b[39m)))\n\u001b[0;32m    571\u001b[0m     \u001b[39mself\u001b[39m\u001b[39m.\u001b[39mscreen\u001b[39m.\u001b[39mblit(rotated_image_Tilt_Prop, (\u001b[39m200\u001b[39m \u001b[39m+\u001b[39m x \u001b[39m+\u001b[39m f_tilt_rotate_pos_length\u001b[39m*\u001b[39mmath\u001b[39m.\u001b[39mcos(vehicle_f_tilt_angle \u001b[39m+\u001b[39m the) \\\n\u001b[0;32m    572\u001b[0m                                                \n\u001b[0;32m    573\u001b[0m                                      \u001b[39m+\u001b[39m (\u001b[39mself\u001b[39m\u001b[39m.\u001b[39mTilt_Prop_height\u001b[39m/\u001b[39m\u001b[39m2\u001b[39m)\u001b[39m*\u001b[39mmath\u001b[39m.\u001b[39mcos(vehicle_f_tilt_angle \u001b[39m+\u001b[39m the \u001b[39m+\u001b[39m tilt) \u001b[39m-\u001b[39m rotated_image_Tilt_Prop\u001b[39m.\u001b[39mget_width()\u001b[39m/\u001b[39m\u001b[39m2\u001b[39m,\\\n\u001b[1;32m   (...)\u001b[0m\n\u001b[0;32m    576\u001b[0m                                          \n\u001b[0;32m    577\u001b[0m                                      \u001b[39m-\u001b[39m rotated_image_Tilt_Prop\u001b[39m.\u001b[39mget_height()\u001b[39m/\u001b[39m\u001b[39m2\u001b[39m))\n\u001b[0;32m    579\u001b[0m     pygame\u001b[39m.\u001b[39mdraw\u001b[39m.\u001b[39mline(\u001b[39mself\u001b[39m\u001b[39m.\u001b[39mscreen, (\u001b[39m179\u001b[39m,\u001b[39m179\u001b[39m,\u001b[39m179\u001b[39m),\\\n\u001b[0;32m    580\u001b[0m                      \n\u001b[0;32m    581\u001b[0m                      (\u001b[39m200\u001b[39m \u001b[39m+\u001b[39m x \u001b[39m+\u001b[39m f_tilt_rotate_pos_length\u001b[39m*\u001b[39mmath\u001b[39m.\u001b[39mcos(vehicle_f_tilt_angle \u001b[39m+\u001b[39m the), \u001b[39mself\u001b[39m\u001b[39m.\u001b[39mwindow_size[\u001b[39m1\u001b[39m]\u001b[39m/\u001b[39m\u001b[39m2\u001b[39m \u001b[39m+\u001b[39m z \u001b[39m-\u001b[39m f_tilt_rotate_pos_length\u001b[39m*\u001b[39mmath\u001b[39m.\u001b[39msin(vehicle_f_tilt_angle \u001b[39m+\u001b[39m the)),\\\n\u001b[0;32m    582\u001b[0m                      \n\u001b[0;32m    583\u001b[0m                      (\u001b[39m200\u001b[39m \u001b[39m+\u001b[39m x \u001b[39m+\u001b[39m f_tilt_rotate_pos_length\u001b[39m*\u001b[39mmath\u001b[39m.\u001b[39mcos(vehicle_f_tilt_angle \u001b[39m+\u001b[39m the) \u001b[39m+\u001b[39m \u001b[39m50\u001b[39m\u001b[39m*\u001b[39mmath\u001b[39m.\u001b[39mcos(the \u001b[39m+\u001b[39m tilt), \u001b[39mself\u001b[39m\u001b[39m.\u001b[39mwindow_size[\u001b[39m1\u001b[39m]\u001b[39m/\u001b[39m\u001b[39m2\u001b[39m \u001b[39m+\u001b[39m z \u001b[39m-\u001b[39m f_tilt_rotate_pos_length\u001b[39m*\u001b[39mmath\u001b[39m.\u001b[39msin(vehicle_f_tilt_angle \u001b[39m+\u001b[39m the) \u001b[39m-\u001b[39m \u001b[39m50\u001b[39m\u001b[39m*\u001b[39mmath\u001b[39m.\u001b[39msin(the \u001b[39m+\u001b[39m tilt)), \u001b[39m4\u001b[39m)\n",
      "\u001b[1;31mKeyboardInterrupt\u001b[0m: "
     ]
    }
   ],
   "source": [
    "time.sleep(5)\n",
    "obs = env.reset()\n",
    "\n",
    "for k in range(3000):\n",
    "    action, _states = model.predict(obs, deterministic=True)\n",
    "\n",
    "    obs, reward, done, info = env.step(action)\n",
    "    #print(action)\n",
    "    env.render()\n",
    "    if done:\n",
    "      obs = env.reset()\n",
    "\n",
    "print(model.policy)"
   ]
  },
  {
   "cell_type": "code",
   "execution_count": null,
   "metadata": {},
   "outputs": [],
   "source": []
  }
 ],
 "metadata": {
  "kernelspec": {
   "display_name": "boom",
   "language": "python",
   "name": "python3"
  },
  "language_info": {
   "codemirror_mode": {
    "name": "ipython",
    "version": 3
   },
   "file_extension": ".py",
   "mimetype": "text/x-python",
   "name": "python",
   "nbconvert_exporter": "python",
   "pygments_lexer": "ipython3",
   "version": "3.11.4"
  },
  "orig_nbformat": 4
 },
 "nbformat": 4,
 "nbformat_minor": 2
}
