{
 "cells": [
  {
   "cell_type": "markdown",
   "metadata": {},
   "source": [
    "# 학습과 테스트를 수행하는 노트북입니다."
   ]
  },
  {
   "cell_type": "code",
   "execution_count": 1,
   "metadata": {},
   "outputs": [],
   "source": [
    "from src.Training import Trainer\n",
    "from src.Test import Tester"
   ]
  },
  {
   "cell_type": "markdown",
   "metadata": {},
   "source": [
    "## 학습하는 셀입니다."
   ]
  },
  {
   "cell_type": "code",
   "execution_count": null,
   "metadata": {},
   "outputs": [],
   "source": [
    "trainingAgent = Trainer(\"cuda\")\n",
    "trainingAgent.startTraining(maximum_eps=10, maximum_timestep=3000)"
   ]
  },
  {
   "cell_type": "markdown",
   "metadata": {},
   "source": [
    "## 테스트 하는 셀입니다."
   ]
  },
  {
   "cell_type": "code",
   "execution_count": 3,
   "metadata": {},
   "outputs": [
    {
     "ename": "KeyboardInterrupt",
     "evalue": "",
     "output_type": "error",
     "traceback": [
      "\u001b[1;31m---------------------------------------------------------------------------\u001b[0m",
      "\u001b[1;31mKeyboardInterrupt\u001b[0m                         Traceback (most recent call last)",
      "\u001b[1;32mg:\\KADA UAM RL\\Playground.ipynb 셀 6\u001b[0m line \u001b[0;36m3\n\u001b[0;32m      <a href='vscode-notebook-cell:/g%3A/KADA%20UAM%20RL/Playground.ipynb#W5sZmlsZQ%3D%3D?line=0'>1</a>\u001b[0m testAgent \u001b[39m=\u001b[39m Tester(\u001b[39m\"\u001b[39m\u001b[39mtrain_result_2023-11-03_152402.zip\u001b[39m\u001b[39m\"\u001b[39m)\n\u001b[0;32m      <a href='vscode-notebook-cell:/g%3A/KADA%20UAM%20RL/Playground.ipynb#W5sZmlsZQ%3D%3D?line=1'>2</a>\u001b[0m testAgent\u001b[39m.\u001b[39msetWatingTime(second\u001b[39m=\u001b[39m\u001b[39m5\u001b[39m)\n\u001b[1;32m----> <a href='vscode-notebook-cell:/g%3A/KADA%20UAM%20RL/Playground.ipynb#W5sZmlsZQ%3D%3D?line=2'>3</a>\u001b[0m testAgent\u001b[39m.\u001b[39;49mrunTest()\n",
      "File \u001b[1;32mg:\\KADA UAM RL\\src\\Test.py:27\u001b[0m, in \u001b[0;36mTester.runTest\u001b[1;34m(self, maximum_timestep)\u001b[0m\n\u001b[0;32m     25\u001b[0m obs, reward, done, info \u001b[39m=\u001b[39m \u001b[39mself\u001b[39m\u001b[39m.\u001b[39menv\u001b[39m.\u001b[39mstep(action)\n\u001b[0;32m     26\u001b[0m \u001b[39mself\u001b[39m\u001b[39m.\u001b[39maddFlightData(info[\u001b[39m'\u001b[39m\u001b[39mdata\u001b[39m\u001b[39m'\u001b[39m])\n\u001b[1;32m---> 27\u001b[0m \u001b[39mself\u001b[39;49m\u001b[39m.\u001b[39;49menv\u001b[39m.\u001b[39;49mrender()\n\u001b[0;32m     28\u001b[0m \u001b[39mif\u001b[39;00m done:\n\u001b[0;32m     29\u001b[0m     obs \u001b[39m=\u001b[39m \u001b[39mself\u001b[39m\u001b[39m.\u001b[39menv\u001b[39m.\u001b[39mreset()\n",
      "File \u001b[1;32mg:\\KADA UAM RL\\src\\Simulator.py:549\u001b[0m, in \u001b[0;36mTiltrotorTransitionSimulator.render\u001b[1;34m(self, mode)\u001b[0m\n\u001b[0;32m    546\u001b[0m text_alpha \u001b[39m=\u001b[39m \u001b[39mself\u001b[39m\u001b[39m.\u001b[39mfont\u001b[39m.\u001b[39mrender(\u001b[39m\"\u001b[39m\u001b[39mAoA(deg) : \u001b[39m\u001b[39m\"\u001b[39m\u001b[39m+\u001b[39m\u001b[39mstr\u001b[39m(\u001b[39mround\u001b[39m(\u001b[39mself\u001b[39m\u001b[39m.\u001b[39mal,\u001b[39m1\u001b[39m)),\u001b[39mTrue\u001b[39;00m,(\u001b[39m28\u001b[39m,\u001b[39m0\u001b[39m,\u001b[39m0\u001b[39m))\n\u001b[0;32m    548\u001b[0m \u001b[39mself\u001b[39m\u001b[39m.\u001b[39mscreen\u001b[39m.\u001b[39mblit(\u001b[39mself\u001b[39m\u001b[39m.\u001b[39mTextboard, (\u001b[39m700\u001b[39m, \u001b[39m10\u001b[39m))\n\u001b[1;32m--> 549\u001b[0m \u001b[39mself\u001b[39;49m\u001b[39m.\u001b[39;49mscreen\u001b[39m.\u001b[39;49mblit(text_x, (\u001b[39m700\u001b[39;49m,\u001b[39m10\u001b[39;49m))\n\u001b[0;32m    550\u001b[0m \u001b[39mself\u001b[39m\u001b[39m.\u001b[39mscreen\u001b[39m.\u001b[39mblit(text_z, (\u001b[39m700\u001b[39m,\u001b[39m30\u001b[39m))\n\u001b[0;32m    551\u001b[0m \u001b[39mself\u001b[39m\u001b[39m.\u001b[39mscreen\u001b[39m.\u001b[39mblit(text_pitch, (\u001b[39m700\u001b[39m,\u001b[39m50\u001b[39m))\n",
      "\u001b[1;31mKeyboardInterrupt\u001b[0m: "
     ]
    }
   ],
   "source": [
    "testAgent = Tester(\"train_result_2023-11-01_202246.zip\")\n",
    "testAgent.setWatingTime(second=5)\n",
    "testAgent.runTest()"
   ]
  },
  {
   "cell_type": "code",
   "execution_count": null,
   "metadata": {},
   "outputs": [],
   "source": []
  }
 ],
 "metadata": {
  "kernelspec": {
   "display_name": "boom",
   "language": "python",
   "name": "python3"
  },
  "language_info": {
   "codemirror_mode": {
    "name": "ipython",
    "version": 3
   },
   "file_extension": ".py",
   "mimetype": "text/x-python",
   "name": "python",
   "nbconvert_exporter": "python",
   "pygments_lexer": "ipython3",
   "version": "3.11.7"
  },
  "orig_nbformat": 4
 },
 "nbformat": 4,
 "nbformat_minor": 2
}
